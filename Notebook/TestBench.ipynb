{
 "cells": [
  {
   "cell_type": "code",
   "execution_count": null,
   "id": "ceb3f2bd",
   "metadata": {},
   "outputs": [],
   "source": [
    "# column : \"age\"\n",
    "# Column type : contineous, numerical\n",
    "# Plot kind : Histogram\n",
    "## Calculate the bin size##\n",
    "# number of observations(n)\n",
    "n = len(age)\n",
    "# minimum value\n",
    "minimum_value = min(age)\n",
    "# maximum value\n",
    "maximum_value = max(age)\n",
    "# find range by subtracting minimum value from maximum value\n",
    "bin_range = maximum_value - minimum_value\n",
    "# find the number of intervals by taking square root of \"n\"\n",
    "num_intervals = 10\n",
    "# find width by dividing range by number of intervals\n",
    "width = (bin_range/num_intervals) "
   ]
  },
  {
   "cell_type": "code",
   "execution_count": null,
   "id": "ed197f8f",
   "metadata": {},
   "outputs": [],
   "source": [
    "from matplotlib import pyplot as plt\n",
    "plt.style.use(\"classic\")\n",
    "plt.hist(x = age, rwidth = width, bins = [18,28,38,48,58,64], range = [minimum_value,maximum_value], edgecolor = \"black\")"
   ]
  },
  {
   "cell_type": "code",
   "execution_count": null,
   "id": "2f4143dc",
   "metadata": {},
   "outputs": [],
   "source": [
    "hist, bin_edges = np.histogram(age)"
   ]
  }
 ],
 "metadata": {
  "kernelspec": {
   "display_name": "Python 3",
   "language": "python",
   "name": "python3"
  },
  "language_info": {
   "codemirror_mode": {
    "name": "ipython",
    "version": 3
   },
   "file_extension": ".py",
   "mimetype": "text/x-python",
   "name": "python",
   "nbconvert_exporter": "python",
   "pygments_lexer": "ipython3",
   "version": "3.7.10"
  }
 },
 "nbformat": 4,
 "nbformat_minor": 5
}
